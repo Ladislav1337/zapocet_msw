{
 "cells": [
  {
   "cell_type": "code",
   "execution_count": 2,
   "metadata": {},
   "outputs": [],
   "source": [
    "#Dependencies\n",
    "import numpy as np\n",
    "import scipy.integrate"
   ]
  },
  {
   "cell_type": "code",
   "execution_count": 3,
   "metadata": {},
   "outputs": [],
   "source": [
    "def fce1(x):\n",
    "    return -x**3 + 3*x**2 + x -3\n",
    "def fce2(x):\n",
    "    return 8*x - np.exp(-5*x) + 5\n",
    "def fce3(x):\n",
    "    return np.sin(x+2)\n",
    "\n",
    "a = 0\n",
    "b = 5\n",
    "dx = 0.3"
   ]
  },
  {
   "cell_type": "code",
   "execution_count": 4,
   "metadata": {},
   "outputs": [],
   "source": [
    "def analytic(f, a, b):\n",
    "    x = scipy.integrate.quad(f, a, b)\n",
    "    return(x[0])\n",
    "\n",
    "def scipy_trapezoid(f, a, b, dx):\n",
    "    x = np.arange(a, b+dx, dx)\n",
    "    y = f(x)\n",
    "    return(scipy.integrate.trapezoid(y, x))\n",
    "\n",
    "def scipy_simpson(f, a, b, dx):\n",
    "    x = np.arange(a, b+dx, dx)\n",
    "    y = f(x)\n",
    "    return(scipy.integrate.simpson(y, x))\n",
    "\n",
    "def scipy_romberg(f, a, b):\n",
    "    return(scipy.integrate.romberg(f, a, b))\n",
    "\n",
    "def scipy_gaussian(f, a, b):\n",
    "    return(scipy.integrate.quadrature(f, a, b)[0])"
   ]
  },
  {
   "cell_type": "code",
   "execution_count": 5,
   "metadata": {},
   "outputs": [
    {
     "name": "stdout",
     "output_type": "stream",
     "text": [
      "The difference is: 5.379749999999973\n",
      "The difference is: 0.0\n",
      "The difference is: 5.044949999999972\n",
      "The difference is: 1.4210854715202004e-14\n"
     ]
    }
   ],
   "source": [
    "# Function 1\n",
    "ana = analytic(fce1, a, b)\n",
    "fn1 = scipy_trapezoid(fce1, a, b, dx)\n",
    "fn2 = scipy_romberg(fce1, a, b)\n",
    "fn3 = scipy_simpson(fce1, a, b, dx)\n",
    "fn4 = scipy_gaussian(fce1, a, b)\n",
    "print(f\"The difference is: {ana - fn1}\")\n",
    "print(f\"The difference is: {ana - fn2}\")\n",
    "print(f\"The difference is: {ana - fn3}\")\n",
    "print(f\"The difference is: {ana - fn4}\")"
   ]
  },
  {
   "cell_type": "code",
   "execution_count": 6,
   "metadata": {},
   "outputs": [
    {
     "name": "stdout",
     "output_type": "stream",
     "text": [
      "The difference is: -4.503834924962547\n",
      "The difference is: 9.765699360286817e-11\n",
      "The difference is: -4.523256670958119\n",
      "The difference is: -3.97988912936853e-08\n"
     ]
    }
   ],
   "source": [
    "# Function 2\n",
    "ana = analytic(fce2, a, b)\n",
    "fn1 = scipy_trapezoid(fce2, a, b, dx)\n",
    "fn2 = scipy_romberg(fce2, a, b)\n",
    "fn3 = scipy_simpson(fce2, a, b, dx)\n",
    "fn4 = scipy_gaussian(fce2, a, b)\n",
    "print(f\"The difference is: {ana - fn1}\")\n",
    "print(f\"The difference is: {ana - fn2}\")\n",
    "print(f\"The difference is: {ana - fn3}\")\n",
    "print(f\"The difference is: {ana - fn4}\")"
   ]
  },
  {
   "cell_type": "code",
   "execution_count": 7,
   "metadata": {},
   "outputs": [
    {
     "name": "stdout",
     "output_type": "stream",
     "text": [
      "The difference is: -0.07762319856924571\n",
      "The difference is: -7.416289804496046e-14\n",
      "The difference is: -0.06766200097833996\n",
      "The difference is: -1.1604939231801836e-11\n"
     ]
    }
   ],
   "source": [
    "# Function 3\n",
    "ana = analytic(fce3, a, b)\n",
    "fn1 = scipy_trapezoid(fce3, a, b, dx)\n",
    "fn2 = scipy_romberg(fce3, a, b)\n",
    "fn3 = scipy_simpson(fce3, a, b, dx)\n",
    "fn4 = scipy_gaussian(fce3, a, b)\n",
    "print(f\"The difference is: {ana - fn1}\")\n",
    "print(f\"The difference is: {ana - fn2}\")\n",
    "print(f\"The difference is: {ana - fn3}\")\n",
    "print(f\"The difference is: {ana - fn4}\")"
   ]
  }
 ],
 "metadata": {
  "kernelspec": {
   "display_name": "Python 3.10.6 64-bit",
   "language": "python",
   "name": "python3"
  },
  "language_info": {
   "codemirror_mode": {
    "name": "ipython",
    "version": 3
   },
   "file_extension": ".py",
   "mimetype": "text/x-python",
   "name": "python",
   "nbconvert_exporter": "python",
   "pygments_lexer": "ipython3",
   "version": "3.10.6"
  },
  "orig_nbformat": 4,
  "vscode": {
   "interpreter": {
    "hash": "e7370f93d1d0cde622a1f8e1c04877d8463912d04d973331ad4851f04de6915a"
   }
  }
 },
 "nbformat": 4,
 "nbformat_minor": 2
}
