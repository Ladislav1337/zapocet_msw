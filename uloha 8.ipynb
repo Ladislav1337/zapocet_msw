{
 "cells": [
  {
   "cell_type": "code",
   "execution_count": 2,
   "metadata": {},
   "outputs": [],
   "source": [
    "def forward_derivate(f, x0, h):\n",
    "    return (f(x0+h) - f(x0))/h\n",
    "\n",
    "def backward_derivate(f, x0, h):\n",
    "    return (f(x0) - f(x0-h))/h\n",
    "\n",
    "def central_derivate(f, x0, h):\n",
    "    return (f(x0+h) - f(x0-h))/(2*h)\n",
    "\n",
    "def func(x): return x**5 - 3*x**30 + 5\n",
    "\n",
    "x0 = 4  # velikost intervalu\n",
    "h = 0.1  # krok"
   ]
  },
  {
   "cell_type": "code",
   "execution_count": 3,
   "metadata": {},
   "outputs": [
    {
     "name": "stdout",
     "output_type": "stream",
     "text": [
      "Bez adaptivního kroku: -3.796227794048001e+19, s adaptivním krokem: -7.548740995089189e+21\n",
      "Bez adaptivního kroku: -1.8404629063581348e+19, s adaptivním krokem: -2.882238796291815e+18\n",
      "Bez adaptivního kroku: -2.8183453502030676e+19, s adaptivním krokem: -3.7758116169427405e+21\n"
     ]
    }
   ],
   "source": [
    "x0 = 4  # velikost intervalu\n",
    "h = 0.1  # krok\n",
    "adaptive_step = float(input(\"Vložte adaptivní krok: \"))  # adaptivni krok\n",
    "\n",
    "forward_der = forward_derivate(func, x0, h)\n",
    "backward_der = backward_derivate(func, x0, h)\n",
    "central_der = central_derivate(func, x0, h)\n",
    "\n",
    "func_forward_adaptive = forward_derivate(func, x0, adaptive_step)\n",
    "func_backward_adaptive = backward_derivate(func, x0, adaptive_step)\n",
    "func_central_adaptive = central_derivate(func, x0, adaptive_step)\n",
    "\n",
    "print(f'Bez adaptivního kroku: {forward_der}, s adaptivním krokem: {func_forward_adaptive}')\n",
    "print(f'Bez adaptivního kroku: {backward_der}, s adaptivním krokem: {func_backward_adaptive}')\n",
    "print(f'Bez adaptivního kroku: {central_der}, s adaptivním krokem: {func_central_adaptive}')\n"
   ]
  }
 ],
 "metadata": {
  "kernelspec": {
   "display_name": "Python 3.10.6 64-bit",
   "language": "python",
   "name": "python3"
  },
  "language_info": {
   "codemirror_mode": {
    "name": "ipython",
    "version": 3
   },
   "file_extension": ".py",
   "mimetype": "text/x-python",
   "name": "python",
   "nbconvert_exporter": "python",
   "pygments_lexer": "ipython3",
   "version": "3.10.6"
  },
  "orig_nbformat": 4,
  "vscode": {
   "interpreter": {
    "hash": "e7370f93d1d0cde622a1f8e1c04877d8463912d04d973331ad4851f04de6915a"
   }
  }
 },
 "nbformat": 4,
 "nbformat_minor": 2
}
